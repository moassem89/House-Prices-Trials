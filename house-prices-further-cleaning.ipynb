{
 "cells": [
  {
   "cell_type": "code",
   "execution_count": 1,
   "metadata": {
    "_cell_guid": "b1076dfc-b9ad-4769-8c92-a6c4dae69d19",
    "_uuid": "8f2839f25d086af736a60e9eeb907d3b93b6e0e5"
   },
   "outputs": [
    {
     "name": "stdout",
     "output_type": "stream",
     "text": [
      "['test.csv', 'train.csv', 'sample_submission.csv', 'data_description.txt']\n"
     ]
    }
   ],
   "source": [
    "# This Python 3 environment comes with many helpful analytics libraries installed\n",
    "# It is defined by the kaggle/python docker image: https://github.com/kaggle/docker-python\n",
    "# For example, here's several helpful packages to load in \n",
    "\n",
    "import numpy as np # linear algebra\n",
    "import pandas as pd # data processing, CSV file I/O (e.g. pd.read_csv)\n",
    "\n",
    "# Input data files are available in the \"../input/\" directory.\n",
    "# For example, running this (by clicking run or pressing Shift+Enter) will list the files in the input directory\n",
    "\n",
    "import os\n",
    "print(os.listdir(\"../input\"))\n",
    "\n",
    "home_data = pd.read_csv(\"../input/train.csv\")\n",
    "home_test = pd.read_csv(\"../input/test.csv\")\n",
    "# Any results you write to the current directory are saved as output."
   ]
  },
  {
   "cell_type": "code",
   "execution_count": 2,
   "metadata": {
    "_cell_guid": "79c7e3d0-c299-4dcb-8224-4455121ee9b0",
    "_uuid": "d629ff2d2480ee46fbb7e2d37f6b5fab8052498a"
   },
   "outputs": [],
   "source": [
    "#From my House Prices: Exploring the data we can see that the columns with lots of missing values are:\n",
    "lots_is_missing = ['LotFrontage','GarageYrBlt','Alley','BsmtQual','BsmtCond','BsmtExposure',\n",
    "                   'BsmtFinType1','BsmtFinType2','FireplaceQu','GarageType','GarageFinish',\n",
    "                   'GarageQual','GarageCond','PoolQC','Fence','MiscFeature']\n",
    "few_is_missing = ['MasVnrArea','MasVnrType']\n",
    "missing =['LotFrontage','GarageYrBlt','Alley','BsmtQual','BsmtCond','BsmtExposure',\n",
    "                   'BsmtFinType1','BsmtFinType2','FireplaceQu','GarageType','GarageFinish',\n",
    "                   'GarageQual','GarageCond','PoolQC','Fence','MiscFeature','MasVnrArea','MasVnrType']"
   ]
  },
  {
   "cell_type": "code",
   "execution_count": 3,
   "metadata": {
    "_uuid": "077894950e4f516c90d1ffafb7d6721764bb14f2"
   },
   "outputs": [],
   "source": [
    "#Remove the columns with lots of missing data\n",
    "clean_1 = home_data.drop(missing, axis=1)\n",
    "clean_2 = home_data.drop(lots_is_missing, axis=1)\n",
    "#clean_1.head()"
   ]
  },
  {
   "cell_type": "code",
   "execution_count": 4,
   "metadata": {
    "_uuid": "7b0059a8c0e9a6c986c446f2fc64c868573d5e15"
   },
   "outputs": [],
   "source": [
    "#Let us see how are things when columns with missing data are removed\n",
    "y = clean_1.SalePrice\n",
    "X = clean_1.drop(['SalePrice'], axis=1)\n",
    "from sklearn.model_selection import train_test_split\n",
    "train_X, test_X, train_y, test_y = train_test_split(X, y, test_size=0.25)"
   ]
  },
  {
   "cell_type": "code",
   "execution_count": 5,
   "metadata": {
    "_uuid": "2693105d9f731fac4f2897415af526418942dbd0"
   },
   "outputs": [],
   "source": [
    "#Let us use OneHotEncoder\n",
    "one_hot_encoded_training_predictors = pd.get_dummies(X)"
   ]
  }
 ],
 "metadata": {
  "kernelspec": {
   "display_name": "Python 3",
   "language": "python",
   "name": "python3"
  },
  "language_info": {
   "codemirror_mode": {
    "name": "ipython",
    "version": 3
   },
   "file_extension": ".py",
   "mimetype": "text/x-python",
   "name": "python",
   "nbconvert_exporter": "python",
   "pygments_lexer": "ipython3",
   "version": "3.6.4"
  }
 },
 "nbformat": 4,
 "nbformat_minor": 1
}
